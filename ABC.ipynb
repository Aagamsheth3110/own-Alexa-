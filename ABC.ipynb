{
  "nbformat": 4,
  "nbformat_minor": 0,
  "metadata": {
    "colab": {
      "name": "ABC.ipynb",
      "provenance": [],
      "authorship_tag": "ABX9TyMuFivzmqUhPY1hmliCkbCg",
      "include_colab_link": true
    },
    "kernelspec": {
      "name": "python3",
      "display_name": "Python 3"
    },
    "language_info": {
      "name": "python"
    }
  },
  "cells": [
    {
      "cell_type": "markdown",
      "metadata": {
        "id": "view-in-github",
        "colab_type": "text"
      },
      "source": [
        "<a href=\"https://colab.research.google.com/github/Aagamsheth3110/own-Alexa-/blob/main/ABC.ipynb\" target=\"_parent\"><img src=\"https://colab.research.google.com/assets/colab-badge.svg\" alt=\"Open In Colab\"/></a>"
      ]
    },
    {
      "cell_type": "code",
      "execution_count": null,
      "metadata": {
        "id": "zek88r8ykwoe",
        "colab": {
          "base_uri": "https://localhost:8080/"
        },
        "outputId": "4a867818-a63a-4291-8937-289e141ef7f3"
      },
      "outputs": [
        {
          "output_type": "stream",
          "name": "stdout",
          "text": [
            "input the radius of the circle : 1.1\n",
            "the area of circle with radius 1.1 is :  3.8013271108439004\n"
          ]
        }
      ],
      "source": [
        "pi=3.14159265359\n",
        "r=float(input(\"input the radius of the circle : \"))\n",
        "area = pi*r*r\n",
        "print(\"the area of circle with radius\",r,\"is : \",area)"
      ]
    }
  ]
}